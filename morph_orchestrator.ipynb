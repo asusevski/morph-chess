{
 "cells": [
  {
   "cell_type": "code",
   "execution_count": 48,
   "id": "1d11981b-dbca-4e47-bb41-b057256c93c2",
   "metadata": {},
   "outputs": [],
   "source": [
    "from morphcloud.api import MorphCloudClient\n",
    "import os"
   ]
  },
  {
   "cell_type": "code",
   "execution_count": 49,
   "id": "ca105f59-c165-42a6-870b-3db803467695",
   "metadata": {},
   "outputs": [],
   "source": [
    "client = MorphCloudClient()"
   ]
  },
  {
   "cell_type": "code",
   "execution_count": 90,
   "id": "e238ace1-533e-4402-ba64-4b24f5c65a18",
   "metadata": {},
   "outputs": [],
   "source": [
    "# initialize base instance\n",
    "snapshot = client.snapshots.create(\n",
    "    vcpus=1,\n",
    "    memory=2048,\n",
    "    disk_size=8192//2\n",
    ")"
   ]
  },
  {
   "cell_type": "code",
   "execution_count": null,
   "id": "79e6eb27-6cf4-47c1-aa13-0a6893e7536c",
   "metadata": {},
   "outputs": [],
   "source": [
    "# do these chained executions for setup, then create an instance to sftp and upload files, then create another snapshot?\n",
    "# snapshot = (\n",
    "#     snapshot.setup(\"apt update -y\")\n",
    "#     .setup(\"apt-get install -y python3-pip\")\n",
    "#     .setup(\"curl -LsSf https://astral.sh/uv/install.sh | bash\")\n",
    "#     .setup(\"cd app\")\n",
    "#     .setup(\"uv add pyprpoject.toml\")\n",
    "# )"
   ]
  },
  {
   "cell_type": "code",
   "execution_count": 91,
   "id": "887db5ae-7839-4a1b-ab9f-881fa3450030",
   "metadata": {},
   "outputs": [],
   "source": [
    "snapshot_id = snapshot.id"
   ]
  },
  {
   "cell_type": "markdown",
   "id": "994da29a-d549-43ff-b226-ca1de9391b24",
   "metadata": {},
   "source": [
    "# uploading stuff to a base instance and branching from there"
   ]
  },
  {
   "cell_type": "code",
   "execution_count": 92,
   "id": "9a3e76e9-f31d-4146-95cf-e2254e2004ad",
   "metadata": {},
   "outputs": [],
   "source": [
    "instance = client.instances.start(snapshot_id=snapshot_id) # brand new instance costing $$$!\n",
    "base_instance_id = instance.id"
   ]
  },
  {
   "cell_type": "code",
   "execution_count": 93,
   "id": "e12e978d-3ced-4af7-8a58-053f8a3d8846",
   "metadata": {},
   "outputs": [
    {
     "name": "stdout",
     "output_type": "stream",
     "text": [
      "Base snapshot id: snapshot_664am2xe, base instance id: morphvm_k71tpchf\n"
     ]
    }
   ],
   "source": [
    "print(f\"Base snapshot id: {snapshot_id}, base instance id: {base_instance_id}\")"
   ]
  },
  {
   "cell_type": "code",
   "execution_count": 94,
   "id": "70feb501-c21b-4c04-9d33-71bfdc9074d1",
   "metadata": {},
   "outputs": [],
   "source": [
    "result = instance.exec(command=\"mkdir app\")"
   ]
  },
  {
   "cell_type": "code",
   "execution_count": 95,
   "id": "49d59f24-befa-41f8-bb60-3703e8ec861c",
   "metadata": {},
   "outputs": [],
   "source": [
    "# upload project to base instance\n",
    "with instance.ssh() as ssh:\n",
    "    sftp = ssh._client.open_sftp()\n",
    "\n",
    "    sftp.put(\"/home/asusevski/morph/chess/config.yaml\", \"app/config.yaml\")\n",
    "    sftp.put(\"/home/asusevski/morph/chess/pyproject.toml\", \"app/pyproject.toml\")\n",
    "    sftp.put(\"/home/asusevski/morph/chess/requirements.txt\", \"app/requirements.txt\")\n",
    "    sftp.put(\"/home/asusevski/morph/chess/schemas.py\", \"app/schemas.py\")\n",
    "    sftp.put(\"/home/asusevski/morph/chess/chess_game.py\", \"app/chess_game.py\")\n",
    "    sftp.put(\"/home/asusevski/morph/chess/agent.py\", \"app/agent.py\")"
   ]
  },
  {
   "cell_type": "code",
   "execution_count": 96,
   "id": "66401e63-8d63-4371-b7f4-687248f7e22c",
   "metadata": {
    "scrolled": true
   },
   "outputs": [],
   "source": [
    "# basically all file modifications here\n",
    "# rmvd apt-get install -y python3\n",
    "startup_commands = \"\"\"\n",
    "apt-get update\n",
    "curl -LsSf https://astral.sh/uv/install.sh | bash\n",
    "cd app\n",
    "uv add pyproject.toml\n",
    "\"\"\"\n",
    "_ = instance.exec(command=startup_commands)"
   ]
  },
  {
   "cell_type": "code",
   "execution_count": 101,
   "id": "c893b318-30b5-4470-bdfd-62dce092a95d",
   "metadata": {},
   "outputs": [
    {
     "name": "stdout",
     "output_type": "stream",
     "text": [
      "exit_code=0 stdout=\"Hit:1 http://deb.debian.org/debian bookworm InRelease\\nHit:2 http://deb.debian.org/debian bookworm-updates InRelease\\nHit:3 http://deb.debian.org/debian-security bookworm-security InRelease\\nReading package lists...\\nReading package lists...\\nBuilding dependency tree...\\nReading state information...\\npython3 is already the newest version (3.11.2-1+b1).\\n0 upgraded, 0 newly installed, 0 to remove and 6 not upgraded.\\nno checksums to verify\\ninstalling to /root/.local/bin\\n  uv\\n  uvx\\neverything's installed!\\n\" stderr='downloading uv 0.7.2 x86_64-unknown-linux-gnu\\nUsing CPython 3.11.2 interpreter at: /usr/bin/python3\\nCreating virtual environment at: .venv\\nResolved 60 packages in 2.41s\\n   Building chess==1.11.2\\nDownloading cryptography (4.0MiB)\\nDownloading pygments (1.2MiB)\\nDownloading setuptools (1.1MiB)\\nDownloading pygame (13.3MiB)\\nDownloading pillow (4.4MiB)\\nDownloading pydantic-core (1.9MiB)\\n Downloading pygments\\n Downloading setuptools\\n Downloading pydantic-core\\n Downloading pillow\\n Downloading cryptography\\n Downloading pygame\\n      Built chess==1.11.2\\nPrepared 56 packages in 3.16s\\nInstalled 56 packages in 137ms\\n + annotated-types==0.7.0\\n + anthropic==0.50.0\\n + anyio==4.9.0\\n + bcrypt==4.3.0\\n + certifi==2025.4.26\\n + cffi==1.17.1\\n + charset-normalizer==3.4.2\\n + chess==1.11.2\\n + chess-board==0.4.1\\n + click==8.1.8\\n + cryptography==44.0.3\\n + distro==1.9.0\\n + filelock==3.18.0\\n + fsspec==2025.3.2\\n + h11==0.16.0\\n + httpcore==1.0.9\\n + httpx==0.28.1\\n + httpx-sse==0.4.0\\n + huggingface-hub==0.30.2\\n + idna==3.10\\n + jiter==0.9.0\\n + markdown-it-py==3.0.0\\n + mcp==1.7.1\\n + mdurl==0.1.2\\n + morphcloud==0.1.67\\n + openai==1.77.0\\n + packaging==25.0\\n + paramiko==3.5.1\\n + pathspec==0.12.1\\n + pillow==11.2.1\\n + psutil==7.0.0\\n + pycparser==2.22\\n + pydantic==2.11.4\\n + pydantic-core==2.33.2\\n + pydantic-settings==2.9.1\\n + pygame==2.6.1\\n + pygments==2.19.1\\n + pynacl==1.5.0\\n + pyproject-toml==0.1.0\\n + python-dotenv==1.1.0\\n + python-multipart==0.0.20\\n + pyyaml==6.0.2\\n + requests==2.32.3\\n + rich==14.0.0\\n + setuptools==80.3.1\\n + sniffio==1.3.1\\n + sse-starlette==2.3.4\\n + starlette==0.46.2\\n + toml==0.10.2\\n + tqdm==4.67.1\\n + typing-extensions==4.13.2\\n + typing-inspection==0.4.0\\n + urllib3==2.4.0\\n + uvicorn==0.34.2\\n + websocket-client==1.8.0\\n + wheel==0.45.1\\n'\n"
     ]
    }
   ],
   "source": [
    "print(instance.exec(command=startup_commands))"
   ]
  },
  {
   "cell_type": "code",
   "execution_count": 103,
   "id": "e00f99a9-43cd-4a0b-ab66-0726a9c6d01f",
   "metadata": {},
   "outputs": [
    {
     "name": "stdout",
     "output_type": "stream",
     "text": [
      "exit_code=0 stdout='total 272K\\ndrwxr-xr-x 3 root root 4.0K May  5 14:40 .\\ndrwx------ 7 root root 4.0K May  5 14:39 ..\\ndrwxr-xr-x 5 root root 4.0K May  5 14:40 .venv\\n-rw-r--r-- 1 root root  37K May  5 14:34 agent.py\\n-rw-r--r-- 1 root root 6.2K May  5 14:34 chess_game.py\\n-rw-r--r-- 1 root root  227 May  5 14:34 config.yaml\\n-rw-r--r-- 1 root root  356 May  5 14:34 pyproject.toml\\n-rw-r--r-- 1 root root 1.1K May  5 14:34 requirements.txt\\n-rw-r--r-- 1 root root 1.1K May  5 14:34 schemas.py\\n-rw-r--r-- 1 root root 196K May  5 14:40 uv.lock\\n' stderr=''\n"
     ]
    }
   ],
   "source": [
    "print(instance.exec(command=\"ls -lah app\"))"
   ]
  },
  {
   "cell_type": "code",
   "execution_count": 100,
   "id": "9753a801-20d7-4de5-a1a6-edaa78e26eb8",
   "metadata": {},
   "outputs": [
    {
     "name": "stdout",
     "output_type": "stream",
     "text": [
      "exit_code=1 stdout='' stderr='Traceback (most recent call last):\\n  File \"/root/app/agent.py\", line 7, in <module>\\n    import yaml\\nModuleNotFoundError: No module named \\'yaml\\'\\n'\n"
     ]
    }
   ],
   "source": [
    "print(instance.exec(command=\"uv run app/agent.py\"))"
   ]
  },
  {
   "cell_type": "code",
   "execution_count": 70,
   "id": "e1f9820c-b6c6-4f01-892f-e553274262a7",
   "metadata": {},
   "outputs": [
    {
     "name": "stdout",
     "output_type": "stream",
     "text": [
      "Snapshot created: snapshot_c6fyenbw. This is the base snapshot for all chess branches.\n"
     ]
    }
   ],
   "source": [
    "# branch from instance with files transferred + uv + deps installed\n",
    "snapshot, clones = instance.branch(count=3)\n",
    "print(f\"Snapshot created: {snapshot.id}. This is the base snapshot for all chess branches.\")"
   ]
  },
  {
   "cell_type": "code",
   "execution_count": 71,
   "id": "0aea1cab-f444-4fa6-b21c-165f41e6eb38",
   "metadata": {},
   "outputs": [],
   "source": [
    "game_ids = [1,2,3]\n",
    "strategies = [\"aggressive\", \"defensive\", \"balanced\"]\n",
    "instance_startup = f\"\"\"\n",
    "cd app\n",
    "source .venv/bin/activate\n",
    "export OPENAI_API_KEY=\"{os.environ.get(\"OPENAI_API_KEY\")}\"\n",
    "\"\"\""
   ]
  },
  {
   "cell_type": "code",
   "execution_count": 76,
   "id": "bb23678c-a403-49e7-8c5e-3129f438b016",
   "metadata": {
    "scrolled": true
   },
   "outputs": [
    {
     "name": "stdout",
     "output_type": "stream",
     "text": [
      "Starting game 1 on instance morphvm_3gq5x8sj with strategy aggressive\n",
      "Stdout:\n",
      "Using custom game ID: 1\n",
      "Starting a new chess game...\n",
      "Starting chess process with command: /root/app/.venv/bin/python3 ./chess_game.py --autosave --game-id 1 --strategy balanced\n",
      "Chess process started, waiting for initial output...\n",
      "Initial chess output received, parsing board state...\n",
      "Warning: Timed out waiting for prompt after 15 seconds\n",
      "Warning: Timed out waiting for prompt after 15 seconds\n",
      "```json\n",
      "{\n",
      "  \"selected_move\": \"e2e4\",\n",
      "  \"alternative_moves\": [\"d2d4\", \"g1f3\"]\n",
      "}\n",
      "```\n",
      "Warning: Timed out waiting for prompt after 15 seconds\n",
      "Successfully parsed structured move: e2e4\n",
      "LLM's move (balanced strategy): e2e4\n",
      "Warning: Timed out waiting for prompt after 15 seconds\n",
      "Move 1 completed\n",
      "Warning: Timed out waiting for prompt after 15 seconds\n",
      "```json\n",
      "{\n",
      "  \"selected_move\": \"e7e5\",\n",
      "  \"alternative_moves\": [\"c7c5\", \"g8f6\"]\n",
      "}\n",
      "```\n",
      "Warning: Timed out waiting for prompt after 15 seconds\n",
      "Successfully parsed structured move: e7e5\n",
      "LLM's move (balanced strategy): e7e5\n",
      "Warning: Timed out waiting for prompt after 15 seconds\n",
      "Move 2 completed\n",
      "Game finished!\n",
      "Game ended after 2 moves\n",
      "\n",
      "Stderr:\n",
      "\n",
      "Starting game 2 on instance morphvm_2rsghxfc with strategy defensive\n",
      "Stdout:\n",
      "Using custom game ID: 2\n",
      "Starting a new chess game...\n",
      "Starting chess process with command: /root/app/.venv/bin/python3 ./chess_game.py --autosave --game-id 2 --strategy balanced\n",
      "Chess process started, waiting for initial output...\n",
      "Initial chess output received, parsing board state...\n",
      "Warning: Timed out waiting for prompt after 15 seconds\n",
      "Warning: Timed out waiting for prompt after 15 seconds\n",
      "```json\n",
      "{\n",
      "  \"selected_move\": \"e2e4\",\n",
      "  \"alternative_moves\": [\"d2d4\", \"g1f3\"]\n",
      "}\n",
      "```\n",
      "Warning: Timed out waiting for prompt after 15 seconds\n",
      "Successfully parsed structured move: e2e4\n",
      "LLM's move (balanced strategy): e2e4\n",
      "Warning: Timed out waiting for prompt after 15 seconds\n",
      "Move 1 completed\n",
      "Warning: Timed out waiting for prompt after 15 seconds\n",
      "```json\n",
      "{\n",
      "  \"selected_move\": \"e7e5\",\n",
      "  \"alternative_moves\": [\"g8f6\", \"c7c5\"]\n",
      "}\n",
      "```\n",
      "Warning: Timed out waiting for prompt after 15 seconds\n",
      "Successfully parsed structured move: e7e5\n",
      "LLM's move (balanced strategy): e7e5\n",
      "Warning: Timed out waiting for prompt after 15 seconds\n",
      "Move 2 completed\n",
      "Game finished!\n",
      "Game ended after 2 moves\n",
      "\n",
      "Stderr:\n",
      "\n",
      "Starting game 3 on instance morphvm_qm40jr6k with strategy balanced\n",
      "Stdout:\n",
      "Using custom game ID: 3\n",
      "Starting a new chess game...\n",
      "Starting chess process with command: /root/app/.venv/bin/python3 ./chess_game.py --autosave --game-id 3 --strategy balanced\n",
      "Chess process started, waiting for initial output...\n",
      "Initial chess output received, parsing board state...\n",
      "Warning: Timed out waiting for prompt after 15 seconds\n",
      "Warning: Timed out waiting for prompt after 15 seconds\n",
      "```json\n",
      "{\n",
      "  \"selected_move\": \"e2e4\",\n",
      "  \"alternative_moves\": [\"d2d4\", \"g1f3\"]\n",
      "}\n",
      "```\n",
      "Warning: Timed out waiting for prompt after 15 seconds\n",
      "Successfully parsed structured move: e2e4\n",
      "LLM's move (balanced strategy): e2e4\n",
      "Warning: Timed out waiting for prompt after 15 seconds\n",
      "Move 1 completed\n",
      "Warning: Timed out waiting for prompt after 15 seconds\n",
      "```json\n",
      "{\n",
      "  \"selected_move\": \"d7d5\",\n",
      "  \"alternative_moves\": [\"g8f6\", \"e7e5\"]\n",
      "}\n",
      "```\n",
      "Warning: Timed out waiting for prompt after 15 seconds\n",
      "Successfully parsed structured move: d7d5\n",
      "LLM's move (balanced strategy): d7d5\n",
      "Warning: Timed out waiting for prompt after 15 seconds\n",
      "Move 2 completed\n",
      "Game finished!\n",
      "Game ended after 2 moves\n",
      "\n",
      "Stderr:\n",
      "\n"
     ]
    }
   ],
   "source": [
    "for clone, game_id, strategy in zip(clones, game_ids, strategies):\n",
    "    print(f\"Starting game {game_id} on instance {clone.id} with strategy {strategy}\")\n",
    "    #instance = client.instances.get(instance_id=clone.id)\n",
    "    \n",
    "    start_game_command = f\"python agent.py --game-id {game_id} --moves 2\"\n",
    "    result = clone.exec(command=instance_startup + \"\\n\" + start_game_command)\n",
    "    print(f\"Stdout:\\n{result.stdout}\")\n",
    "    print(f\"Stderr:\\n{result.stderr}\")"
   ]
  },
  {
   "cell_type": "code",
   "execution_count": 82,
   "id": "32222f5f-cfbc-453e-ac14-550b0857e681",
   "metadata": {},
   "outputs": [
    {
     "name": "stdout",
     "output_type": "stream",
     "text": [
      "\n"
     ]
    }
   ],
   "source": [
    "print(clones[0].exec(\"echo \\\"hello?\\\" > tmp.txt\").stdout)"
   ]
  },
  {
   "cell_type": "code",
   "execution_count": 77,
   "id": "6f13436e-c56d-48d8-a590-725c9478dc3e",
   "metadata": {},
   "outputs": [
    {
     "name": "stdout",
     "output_type": "stream",
     "text": [
      "cat: app/chess_autosaves/game_id_1.json: No such file or directory\n",
      "\n",
      "==================================================\n",
      "\n"
     ]
    }
   ],
   "source": [
    "# check game results on clone 1\n",
    "#game_1_branch = client.instances.get(instance_id=clones[0].id)\n",
    "print(clones[0].exec(f\"cat app/chess_autosaves/game_id_{game_ids[0]}.json\").stderr)\n",
    "print(\"=\"*50)\n",
    "print(clones[0].exec(f\"cat app/chess_autosaves/game_id_{game_ids[0]}.json\").stdout)"
   ]
  },
  {
   "cell_type": "code",
   "execution_count": 85,
   "id": "9213fa46-f35c-4246-a70a-9992487f7462",
   "metadata": {},
   "outputs": [
    {
     "data": {
      "text/plain": [
       "'morphvm_3gq5x8sj'"
      ]
     },
     "execution_count": 85,
     "metadata": {},
     "output_type": "execute_result"
    }
   ],
   "source": [
    "game_1_branch.id"
   ]
  },
  {
   "cell_type": "code",
   "execution_count": 84,
   "id": "63dab8bd-65d9-4d92-be0c-20548808aae4",
   "metadata": {},
   "outputs": [
    {
     "name": "stdout",
     "output_type": "stream",
     "text": [
      "app\n",
      "tmp.txt\n",
      "\n"
     ]
    }
   ],
   "source": [
    "print(game_1_branch.exec(\"ls\").stdout)"
   ]
  },
  {
   "cell_type": "code",
   "execution_count": 47,
   "id": "262219ce-6e42-4fd4-8294-94ab1f7952da",
   "metadata": {},
   "outputs": [
    {
     "data": {
      "text/plain": [
       "InstanceExecResponse(exit_code=1, stdout='', stderr='cat: chess_autosaves/game_id_1.json: No such file or directory\\n')"
      ]
     },
     "execution_count": 47,
     "metadata": {},
     "output_type": "execute_result"
    }
   ],
   "source": [
    "game_1_branch.exec(f\"cat chess_autosaves/game_id_{game_ids[0]}.json\")"
   ]
  },
  {
   "cell_type": "markdown",
   "id": "a721c844-19f3-4fa7-be89-3bc0d845fec3",
   "metadata": {},
   "source": [
    "---"
   ]
  },
  {
   "cell_type": "markdown",
   "id": "331d7ee5-f8d0-4013-98a3-416f1d985f84",
   "metadata": {},
   "source": [
    "# utils\n"
   ]
  },
  {
   "cell_type": "code",
   "execution_count": 106,
   "id": "d98805ed-904f-4f5e-b7e5-cb8d1fed6b3e",
   "metadata": {},
   "outputs": [],
   "source": [
    "# delete all instances\n",
    "instances = client.instances.list()\n",
    "\n",
    "for instance in instances:\n",
    "    print(f\"Stopping instance ID: {instance.id}, Current Status: {instance.status}, Snapshot ID: {instance.refs.snapshot_id}\")\n",
    "    instance.stop()"
   ]
  },
  {
   "cell_type": "code",
   "execution_count": 107,
   "id": "abc7349f-db47-4fa1-bd7e-22fa7ffbc17d",
   "metadata": {},
   "outputs": [
    {
     "name": "stdout",
     "output_type": "stream",
     "text": [
      "Deleting snapshot ID: snapshot_664am2xe, Created At: 1746455649\n"
     ]
    }
   ],
   "source": [
    "# delete all snapshots\n",
    "snapshots = client.snapshots.list()\n",
    "\n",
    "for snapshot in snapshots:\n",
    "    print(f\"Deleting snapshot ID: {snapshot.id}, Created At: {snapshot.created}\")\n",
    "    snapshot.delete()"
   ]
  }
 ],
 "metadata": {
  "kernelspec": {
   "display_name": "Python 3 (ipykernel)",
   "language": "python",
   "name": "python3"
  },
  "language_info": {
   "codemirror_mode": {
    "name": "ipython",
    "version": 3
   },
   "file_extension": ".py",
   "mimetype": "text/x-python",
   "name": "python",
   "nbconvert_exporter": "python",
   "pygments_lexer": "ipython3",
   "version": "3.10.12"
  }
 },
 "nbformat": 4,
 "nbformat_minor": 5
}
