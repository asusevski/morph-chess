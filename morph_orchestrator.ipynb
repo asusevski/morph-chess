{
 "cells": [
  {
   "cell_type": "code",
   "execution_count": null,
   "id": "d79f1710-2117-472c-b98f-79163f779830",
   "metadata": {},
   "outputs": [],
   "source": [
    "from morphcloud.api import MorphCloudClient\n",
    "import os"
   ]
  },
  {
   "cell_type": "code",
   "execution_count": null,
   "id": "c93d10d5-1dcd-4f82-b2e9-ec2da85c7f7b",
   "metadata": {},
   "outputs": [],
   "source": [
    "client = MorphCloudClient()"
   ]
  },
  {
   "cell_type": "code",
   "execution_count": null,
   "id": "fd535d2d-dd51-43d2-a41c-7c05161b700a",
   "metadata": {},
   "outputs": [],
   "source": [
    "# initialize base instance\n",
    "snapshot = client.snapshots.create(\n",
    "    vcpus=1,\n",
    "    memory=4096,\n",
    "    disk_size=8192\n",
    ")"
   ]
  },
  {
   "cell_type": "code",
   "execution_count": null,
   "id": "a8a11906-33c7-4014-82e8-929d9d5fe512",
   "metadata": {},
   "outputs": [],
   "source": [
    "snapshot = (\n",
    "    snapshot.setup(\"apt update -y\")\n",
    "    .setup(\"apt-get install -y python3-pip\")\n",
    "    .setup(\"curl -LsSf https://astral.sh/uv/install.sh | bash\")\n",
    ")"
   ]
  },
  {
   "cell_type": "markdown",
   "id": "a3b2e600-129f-485b-b01a-6e581546e523",
   "metadata": {},
   "source": [
    "# TMP: until we find out how to upload files to a snapshot with the setup api we will manually do it to an instance"
   ]
  },
  {
   "cell_type": "code",
   "execution_count": null,
   "id": "94567f45-fbfb-4cfd-a2d9-c819321577b6",
   "metadata": {},
   "outputs": [],
   "source": [
    "base_instance = client.instances.start(snapshot_id=snapshot.id)"
   ]
  },
  {
   "cell_type": "code",
   "execution_count": null,
   "id": "f93914a2-3311-40b4-8f21-e694d86d5045",
   "metadata": {},
   "outputs": [],
   "source": [
    "result = base_instance.exec(command=\"mkdir app\")\n",
    "# upload project to base instance\n",
    "with base_instance.ssh() as ssh:\n",
    "    sftp = ssh._client.open_sftp()\n",
    "    sftp.put(\"/home/asusevski/morph/chess/config.yaml\", \"app/config.yaml\")\n",
    "    sftp.put(\"/home/asusevski/morph/chess/pyproject.toml\", \"app/pyproject.toml\")\n",
    "    sftp.put(\"/home/asusevski/morph/chess/requirements.txt\", \"app/requirements.txt\")\n",
    "    sftp.put(\"/home/asusevski/morph/chess/schemas.py\", \"app/schemas.py\")\n",
    "    sftp.put(\"/home/asusevski/morph/chess/chess_game.py\", \"app/chess_game.py\")\n",
    "    sftp.put(\"/home/asusevski/morph/chess/chess_engine.py\", \"app/chess_engine.py\")\n",
    "    sftp.put(\"/home/asusevski/morph/chess/agent.py\", \"app/agent.py\")"
   ]
  },
  {
   "cell_type": "markdown",
   "id": "038b848e-bc0c-41e5-865b-dcea0c60d5cf",
   "metadata": {},
   "source": [
    "# Remaining to setup: uv add pyproject.toml\n",
    "- NOTE: can just keep the tmp instance i guess"
   ]
  },
  {
   "cell_type": "code",
   "execution_count": null,
   "id": "22a3d919-da25-45f3-8df1-2a015fc9856f",
   "metadata": {},
   "outputs": [],
   "source": [
    "# branch from instance with files transferred + uv + deps installed\n",
    "base_snapshot, clones = base_instance.branch(count=3)\n",
    "print(f\"Snapshot created: {base_snapshot.id}. This is the base snapshot for all chess branches.\")"
   ]
  },
  {
   "cell_type": "code",
   "execution_count": null,
   "id": "6219c19f-e9b2-4a1d-9cc8-f30347079cef",
   "metadata": {},
   "outputs": [],
   "source": [
    "[clone.id for clone in clones]"
   ]
  },
  {
   "cell_type": "code",
   "execution_count": null,
   "id": "8b9013b5-b117-40a7-a2b5-4371c3b3a030",
   "metadata": {},
   "outputs": [],
   "source": [
    "NUM_MOVES = 5\n",
    "game_ids = [1,2,3]\n",
    "strategies = [\"aggressive\", \"defensive\", \"balanced\"]\n",
    "#instance_startup = f\"export OPENAI_API_KEY={os.environ.get('OPENAI_API_KEY')} && cd app && mkdir chess_autosaves && uv add pyproject.toml && source .venv/bin/activate && python agent.py\"\n",
    "run_agent_cmd = f\"export OPENAI_API_KEY={os.environ.get('OPENAI_API_KEY')} && cd app && mkdir chess_autosaves && uv add pyproject.toml && uv run agent.py --game-id {game_id} --moves {NUM_MOVES}\""
   ]
  },
  {
   "cell_type": "code",
   "execution_count": null,
   "id": "9cf690a7-1a3c-4f95-9f5f-8ae4bef217e6",
   "metadata": {},
   "outputs": [],
   "source": [
    "for clone, game_id, strategy in zip(clones, game_ids, strategies):\n",
    "    print(f\"Starting game {game_id} on instance {clone.id} with strategy {strategy}\")\n",
    "    run_agent_cmd = f\"export OPENAI_API_KEY={os.environ.get('OPENAI_API_KEY')} && cd app && mkdir chess_autosaves && uv add pyproject.toml && uv run agent.py --game-id {game_id} --moves 2\"\n",
    "    \n",
    "    result = clone.exec(command=run_agent_cmd)\n",
    "    print(\"=\"*50)\n",
    "    print(f\"Stdout:\\n{result.stdout}\")\n",
    "    print(\"-\"*50)\n",
    "    print(f\"Stderr:\\n{result.stderr}\")\n",
    "    print('-'*50)\n",
    "    # check that the game state saved\n",
    "    result = clone.exec(command=f\"cat app/chess_autosaves/game_id_{game_id}.json\")\n",
    "    print(f\"Stdout:\\n{result.stdout}\")\n",
    "    print(\"-\"*50)\n",
    "    print(f\"Stderr:\\n{result.stderr}\")\n",
    "    print(\"=\"*50)"
   ]
  },
  {
   "cell_type": "code",
   "execution_count": null,
   "id": "5419d0eb-1b24-4b1a-9ba7-61dc0dccf3e3",
   "metadata": {},
   "outputs": [],
   "source": [
    "print(clones[1].exec(f\"cat app/chess_autosaves/game_id_2.json\").stdout)"
   ]
  },
  {
   "cell_type": "code",
   "execution_count": null,
   "id": "780fc7f8-b0cc-4c4a-9225-61d147ddec84",
   "metadata": {},
   "outputs": [],
   "source": [
    "print(clones[0].exec(f\"ls app/chess_autosaves\").stdout)"
   ]
  },
  {
   "cell_type": "code",
   "execution_count": null,
   "id": "4511d873-943e-46cd-9cf2-f41021cdbace",
   "metadata": {},
   "outputs": [],
   "source": [
    "[x.id for x in clones]"
   ]
  },
  {
   "cell_type": "markdown",
   "id": "a2bfae6f-87fd-417b-8ba3-b9573e212ecd",
   "metadata": {},
   "source": [
    "# utils"
   ]
  },
  {
   "cell_type": "code",
   "execution_count": null,
   "id": "b54a10ce-8761-451c-8643-82abf03b74c8",
   "metadata": {},
   "outputs": [],
   "source": [
    "# delete all instances\n",
    "instances = client.instances.list()\n",
    "\n",
    "for instance in instances:\n",
    "    print(f\"Stopping instance ID: {instance.id}, Current Status: {instance.status}, Snapshot ID: {instance.refs.snapshot_id}\")\n",
    "    instance.stop()\n"
   ]
  },
  {
   "cell_type": "code",
   "execution_count": null,
   "id": "2267bc8e-4d89-4f15-8e0e-e0861cc530eb",
   "metadata": {},
   "outputs": [],
   "source": [
    "# delete all snapshots\n",
    "snapshots = client.snapshots.list()\n",
    "\n",
    "for snapshot in snapshots:\n",
    "    print(f\"Deleting snapshot ID: {snapshot.id}, Created At: {snapshot.created}\")\n",
    "    snapshot.delete()"
   ]
  },
  {
   "cell_type": "code",
   "execution_count": null,
   "id": "499d4c9f-3aa3-449d-84b4-50b18213665d",
   "metadata": {},
   "outputs": [],
   "source": [
    "# reset autosaves\n",
    "for clone in clones:\n",
    "    _ = clone.exec(command=\"rm -rf app/chess_autosaves\")"
   ]
  },
  {
   "cell_type": "code",
   "execution_count": null,
   "id": "6e3a6d49-c764-426f-a0f4-2e307ae402f1",
   "metadata": {},
   "outputs": [],
   "source": [
    "# update agent.py\n",
    "for clone in clones:\n",
    "    with clone.ssh() as ssh:\n",
    "        sftp = ssh._client.open_sftp()\n",
    "        sftp.put(\"/home/asusevski/morph/chess/agent.py\", \"app/agent.py\")"
   ]
  }
 ],
 "metadata": {
  "kernelspec": {
   "display_name": "Python 3 (ipykernel)",
   "language": "python",
   "name": "python3"
  },
  "language_info": {
   "codemirror_mode": {
    "name": "ipython",
    "version": 3
   },
   "file_extension": ".py",
   "mimetype": "text/x-python",
   "name": "python",
   "nbconvert_exporter": "python",
   "pygments_lexer": "ipython3",
   "version": "3.10.12"
  }
 },
 "nbformat": 4,
 "nbformat_minor": 5
}
