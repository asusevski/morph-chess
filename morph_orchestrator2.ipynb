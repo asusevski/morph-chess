{
 "cells": [
  {
   "cell_type": "code",
   "execution_count": 113,
   "id": "a42aca19-0f2c-46e1-9712-3180559188a3",
   "metadata": {},
   "outputs": [],
   "source": [
    "from morphcloud.api import MorphCloudClient\n",
    "import os"
   ]
  },
  {
   "cell_type": "code",
   "execution_count": 114,
   "id": "0ea83aab-b1b2-4556-b9aa-0b3808f01f58",
   "metadata": {},
   "outputs": [],
   "source": [
    "client = MorphCloudClient()"
   ]
  },
  {
   "cell_type": "code",
   "execution_count": 115,
   "id": "610373da-fe1d-44a9-93ae-b9a2d913511b",
   "metadata": {},
   "outputs": [],
   "source": [
    "# initialize base instance\n",
    "snapshot = client.snapshots.create(\n",
    "    vcpus=1,\n",
    "    memory=4096,\n",
    "    disk_size=8192\n",
    ")"
   ]
  },
  {
   "cell_type": "code",
   "execution_count": 74,
   "id": "8d89301a-99f3-4b06-9f7b-dcaac64939fa",
   "metadata": {
    "scrolled": true
   },
   "outputs": [
    {
     "data": {
      "text/html": [
       "<pre style=\"white-space:pre;overflow-x:auto;line-height:normal;font-family:Menlo,'DejaVu Sans Mono',consolas,'Courier New',monospace\">\n",
       "<span style=\"color: #000000; text-decoration-color: #000000; background-color: #c0c0c0; font-weight: bold\">Effect function:</span> <span style=\"color: #008080; text-decoration-color: #008080\">_run_command_effect</span>\n",
       "<span style=\"color: #c0c0c0; text-decoration-color: #c0c0c0; font-weight: bold\">args:</span> <span style=\"color: #808000; text-decoration-color: #808000; font-weight: bold\">()</span>   <span style=\"color: #c0c0c0; text-decoration-color: #c0c0c0; font-weight: bold\">kwargs:</span> <span style=\"color: #808000; text-decoration-color: #808000; font-weight: bold\">{</span><span style=\"color: #808000; text-decoration-color: #808000\">'command'</span><span style=\"color: #808000; text-decoration-color: #808000\">: </span><span style=\"color: #808000; text-decoration-color: #808000\">'apt update -y'</span><span style=\"color: #808000; text-decoration-color: #808000\">, </span><span style=\"color: #808000; text-decoration-color: #808000\">'background'</span><span style=\"color: #808000; text-decoration-color: #808000\">: </span><span style=\"color: #808000; text-decoration-color: #808000; font-style: italic\">False</span><span style=\"color: #808000; text-decoration-color: #808000\">, </span><span style=\"color: #808000; text-decoration-color: #808000\">'get_pty'</span><span style=\"color: #808000; text-decoration-color: #808000\">: </span><span style=\"color: #808000; text-decoration-color: #808000; font-style: italic\">True</span><span style=\"color: #808000; text-decoration-color: #808000; font-weight: bold\">}</span>\n",
       "\n",
       "</pre>\n"
      ],
      "text/plain": [
       "\n",
       "\u001b[1;30;47mEffect function:\u001b[0m \u001b[36m_run_command_effect\u001b[0m\n",
       "\u001b[1;37margs:\u001b[0m \u001b[1;33m(\u001b[0m\u001b[1;33m)\u001b[0m   \u001b[1;37mkwargs:\u001b[0m \u001b[1;33m{\u001b[0m\u001b[33m'command'\u001b[0m\u001b[33m: \u001b[0m\u001b[33m'apt update -y'\u001b[0m\u001b[33m, \u001b[0m\u001b[33m'background'\u001b[0m\u001b[33m: \u001b[0m\u001b[3;33mFalse\u001b[0m\u001b[33m, \u001b[0m\u001b[33m'get_pty'\u001b[0m\u001b[33m: \u001b[0m\u001b[3;33mTrue\u001b[0m\u001b[1;33m}\u001b[0m\n",
       "\n"
      ]
     },
     "metadata": {},
     "output_type": "display_data"
    },
    {
     "data": {
      "text/html": [
       "<pre style=\"white-space:pre;overflow-x:auto;line-height:normal;font-family:Menlo,'DejaVu Sans Mono',consolas,'Courier New',monospace\"><span style=\"color: #800080; text-decoration-color: #800080; font-weight: bold\">🚀 Building new snapshot</span> with digest <span style=\"color: #c0c0c0; text-decoration-color: #c0c0c0\">61eee48f351413037af7870e65c2a00aefc89b9506be66dde28e226badf5bfa4</span>.\n",
       "</pre>\n"
      ],
      "text/plain": [
       "\u001b[1;35m🚀 Building new snapshot\u001b[0m with digest \u001b[37m61eee48f351413037af7870e65c2a00aefc89b9506be66dde28e226badf5bfa4\u001b[0m.\n"
      ]
     },
     "metadata": {},
     "output_type": "display_data"
    },
    {
     "data": {
      "text/html": [
       "<pre style=\"white-space:pre;overflow-x:auto;line-height:normal;font-family:Menlo,'DejaVu Sans Mono',consolas,'Courier New',monospace\"><span style=\"color: #000080; text-decoration-color: #000080; font-weight: bold\">🔧 Running command (foreground):</span> <span style=\"color: #808000; text-decoration-color: #808000\">apt update -y</span>\n",
       "</pre>\n"
      ],
      "text/plain": [
       "\u001b[1;34m🔧 Running command \u001b[0m\u001b[1;34m(\u001b[0m\u001b[1;34mforeground\u001b[0m\u001b[1;34m)\u001b[0m\u001b[1;34m:\u001b[0m \u001b[33mapt update -y\u001b[0m\n"
      ]
     },
     "metadata": {},
     "output_type": "display_data"
    },
    {
     "data": {
      "application/vnd.jupyter.widget-view+json": {
       "model_id": "5bd9c684dff145418a2939ff7a4d6d29",
       "version_major": 2,
       "version_minor": 0
      },
      "text/plain": [
       "Output()"
      ]
     },
     "metadata": {},
     "output_type": "display_data"
    },
    {
     "data": {
      "text/html": [
       "<pre style=\"white-space:pre;overflow-x:auto;line-height:normal;font-family:Menlo,'DejaVu Sans Mono',consolas,'Courier New',monospace\"></pre>\n"
      ],
      "text/plain": []
     },
     "metadata": {},
     "output_type": "display_data"
    },
    {
     "data": {
      "text/html": [
       "<pre style=\"white-space:pre;overflow-x:auto;line-height:normal;font-family:Menlo,'DejaVu Sans Mono',consolas,'Courier New',monospace\"><span style=\"color: #000080; text-decoration-color: #000080; font-weight: bold\">🎉 New snapshot created</span> with digest <span style=\"color: #c0c0c0; text-decoration-color: #c0c0c0\">61eee48f351413037af7870e65c2a00aefc89b9506be66dde28e226badf5bfa4</span>.\n",
       "\n",
       "</pre>\n"
      ],
      "text/plain": [
       "\u001b[1;34m🎉 New snapshot created\u001b[0m with digest \u001b[37m61eee48f351413037af7870e65c2a00aefc89b9506be66dde28e226badf5bfa4\u001b[0m.\n",
       "\n"
      ]
     },
     "metadata": {},
     "output_type": "display_data"
    },
    {
     "data": {
      "text/html": [
       "<pre style=\"white-space:pre;overflow-x:auto;line-height:normal;font-family:Menlo,'DejaVu Sans Mono',consolas,'Courier New',monospace\">\n",
       "<span style=\"color: #000000; text-decoration-color: #000000; background-color: #c0c0c0; font-weight: bold\">Effect function:</span> <span style=\"color: #008080; text-decoration-color: #008080\">_run_command_effect</span>\n",
       "<span style=\"color: #c0c0c0; text-decoration-color: #c0c0c0; font-weight: bold\">args:</span> <span style=\"color: #808000; text-decoration-color: #808000; font-weight: bold\">()</span>   <span style=\"color: #c0c0c0; text-decoration-color: #c0c0c0; font-weight: bold\">kwargs:</span> <span style=\"color: #808000; text-decoration-color: #808000; font-weight: bold\">{</span><span style=\"color: #808000; text-decoration-color: #808000\">'command'</span><span style=\"color: #808000; text-decoration-color: #808000\">: </span><span style=\"color: #808000; text-decoration-color: #808000\">'apt-get install -y python3-pip'</span><span style=\"color: #808000; text-decoration-color: #808000\">, </span><span style=\"color: #808000; text-decoration-color: #808000\">'background'</span><span style=\"color: #808000; text-decoration-color: #808000\">: </span><span style=\"color: #808000; text-decoration-color: #808000; font-style: italic\">False</span><span style=\"color: #808000; text-decoration-color: #808000\">, </span><span style=\"color: #808000; text-decoration-color: #808000\">'get_pty'</span><span style=\"color: #808000; text-decoration-color: #808000\">: </span><span style=\"color: #808000; text-decoration-color: #808000; font-style: italic\">True</span><span style=\"color: #808000; text-decoration-color: #808000; font-weight: bold\">}</span>\n",
       "\n",
       "</pre>\n"
      ],
      "text/plain": [
       "\n",
       "\u001b[1;30;47mEffect function:\u001b[0m \u001b[36m_run_command_effect\u001b[0m\n",
       "\u001b[1;37margs:\u001b[0m \u001b[1;33m(\u001b[0m\u001b[1;33m)\u001b[0m   \u001b[1;37mkwargs:\u001b[0m \u001b[1;33m{\u001b[0m\u001b[33m'command'\u001b[0m\u001b[33m: \u001b[0m\u001b[33m'apt-get install -y python3-pip'\u001b[0m\u001b[33m, \u001b[0m\u001b[33m'background'\u001b[0m\u001b[33m: \u001b[0m\u001b[3;33mFalse\u001b[0m\u001b[33m, \u001b[0m\u001b[33m'get_pty'\u001b[0m\u001b[33m: \u001b[0m\u001b[3;33mTrue\u001b[0m\u001b[1;33m}\u001b[0m\n",
       "\n"
      ]
     },
     "metadata": {},
     "output_type": "display_data"
    },
    {
     "data": {
      "text/html": [
       "<pre style=\"white-space:pre;overflow-x:auto;line-height:normal;font-family:Menlo,'DejaVu Sans Mono',consolas,'Courier New',monospace\"><span style=\"color: #800080; text-decoration-color: #800080; font-weight: bold\">🚀 Building new snapshot</span> with digest <span style=\"color: #c0c0c0; text-decoration-color: #c0c0c0\">c98012d00f41f8ca89f0c65548818fa1068fdcc03e01f00ba5b08bbe662acc53</span>.\n",
       "</pre>\n"
      ],
      "text/plain": [
       "\u001b[1;35m🚀 Building new snapshot\u001b[0m with digest \u001b[37mc98012d00f41f8ca89f0c65548818fa1068fdcc03e01f00ba5b08bbe662acc53\u001b[0m.\n"
      ]
     },
     "metadata": {},
     "output_type": "display_data"
    },
    {
     "data": {
      "text/html": [
       "<pre style=\"white-space:pre;overflow-x:auto;line-height:normal;font-family:Menlo,'DejaVu Sans Mono',consolas,'Courier New',monospace\"><span style=\"color: #000080; text-decoration-color: #000080; font-weight: bold\">🔧 Running command (foreground):</span> <span style=\"color: #808000; text-decoration-color: #808000\">apt-get install -y python3-pip</span>\n",
       "</pre>\n"
      ],
      "text/plain": [
       "\u001b[1;34m🔧 Running command \u001b[0m\u001b[1;34m(\u001b[0m\u001b[1;34mforeground\u001b[0m\u001b[1;34m)\u001b[0m\u001b[1;34m:\u001b[0m \u001b[33mapt-get install -y python3-pip\u001b[0m\n"
      ]
     },
     "metadata": {},
     "output_type": "display_data"
    },
    {
     "data": {
      "application/vnd.jupyter.widget-view+json": {
       "model_id": "9f49a33eb90148ecafa78a6fcd0d0f38",
       "version_major": 2,
       "version_minor": 0
      },
      "text/plain": [
       "Output()"
      ]
     },
     "metadata": {},
     "output_type": "display_data"
    },
    {
     "data": {
      "text/html": [
       "<pre style=\"white-space:pre;overflow-x:auto;line-height:normal;font-family:Menlo,'DejaVu Sans Mono',consolas,'Courier New',monospace\"></pre>\n"
      ],
      "text/plain": []
     },
     "metadata": {},
     "output_type": "display_data"
    },
    {
     "data": {
      "text/html": [
       "<pre style=\"white-space:pre;overflow-x:auto;line-height:normal;font-family:Menlo,'DejaVu Sans Mono',consolas,'Courier New',monospace\"><span style=\"color: #000080; text-decoration-color: #000080; font-weight: bold\">🎉 New snapshot created</span> with digest <span style=\"color: #c0c0c0; text-decoration-color: #c0c0c0\">c98012d00f41f8ca89f0c65548818fa1068fdcc03e01f00ba5b08bbe662acc53</span>.\n",
       "\n",
       "</pre>\n"
      ],
      "text/plain": [
       "\u001b[1;34m🎉 New snapshot created\u001b[0m with digest \u001b[37mc98012d00f41f8ca89f0c65548818fa1068fdcc03e01f00ba5b08bbe662acc53\u001b[0m.\n",
       "\n"
      ]
     },
     "metadata": {},
     "output_type": "display_data"
    },
    {
     "data": {
      "text/html": [
       "<pre style=\"white-space:pre;overflow-x:auto;line-height:normal;font-family:Menlo,'DejaVu Sans Mono',consolas,'Courier New',monospace\">\n",
       "<span style=\"color: #000000; text-decoration-color: #000000; background-color: #c0c0c0; font-weight: bold\">Effect function:</span> <span style=\"color: #008080; text-decoration-color: #008080\">_run_command_effect</span>\n",
       "<span style=\"color: #c0c0c0; text-decoration-color: #c0c0c0; font-weight: bold\">args:</span> <span style=\"color: #808000; text-decoration-color: #808000; font-weight: bold\">()</span>   <span style=\"color: #c0c0c0; text-decoration-color: #c0c0c0; font-weight: bold\">kwargs:</span> <span style=\"color: #808000; text-decoration-color: #808000; font-weight: bold\">{</span><span style=\"color: #808000; text-decoration-color: #808000\">'command'</span><span style=\"color: #808000; text-decoration-color: #808000\">: </span><span style=\"color: #808000; text-decoration-color: #808000\">'curl -LsSf https://astral.sh/uv/install.sh | bash'</span><span style=\"color: #808000; text-decoration-color: #808000\">, </span><span style=\"color: #808000; text-decoration-color: #808000\">'background'</span><span style=\"color: #808000; text-decoration-color: #808000\">: </span><span style=\"color: #808000; text-decoration-color: #808000; font-style: italic\">False</span><span style=\"color: #808000; text-decoration-color: #808000\">, </span><span style=\"color: #808000; text-decoration-color: #808000\">'get_pty'</span><span style=\"color: #808000; text-decoration-color: #808000\">:</span>\n",
       "<span style=\"color: #808000; text-decoration-color: #808000; font-style: italic\">True</span><span style=\"color: #808000; text-decoration-color: #808000; font-weight: bold\">}</span>\n",
       "\n",
       "</pre>\n"
      ],
      "text/plain": [
       "\n",
       "\u001b[1;30;47mEffect function:\u001b[0m \u001b[36m_run_command_effect\u001b[0m\n",
       "\u001b[1;37margs:\u001b[0m \u001b[1;33m(\u001b[0m\u001b[1;33m)\u001b[0m   \u001b[1;37mkwargs:\u001b[0m \u001b[1;33m{\u001b[0m\u001b[33m'command'\u001b[0m\u001b[33m: \u001b[0m\u001b[33m'curl -LsSf https://astral.sh/uv/install.sh | bash'\u001b[0m\u001b[33m, \u001b[0m\u001b[33m'background'\u001b[0m\u001b[33m: \u001b[0m\u001b[3;33mFalse\u001b[0m\u001b[33m, \u001b[0m\u001b[33m'get_pty'\u001b[0m\u001b[33m:\u001b[0m\n",
       "\u001b[3;33mTrue\u001b[0m\u001b[1;33m}\u001b[0m\n",
       "\n"
      ]
     },
     "metadata": {},
     "output_type": "display_data"
    },
    {
     "data": {
      "text/html": [
       "<pre style=\"white-space:pre;overflow-x:auto;line-height:normal;font-family:Menlo,'DejaVu Sans Mono',consolas,'Courier New',monospace\"><span style=\"color: #800080; text-decoration-color: #800080; font-weight: bold\">🚀 Building new snapshot</span> with digest <span style=\"color: #c0c0c0; text-decoration-color: #c0c0c0\">db9306addd0343592e29e7e4ef7c4554334d7cb6572c512d9b2283f69d86b14d</span>.\n",
       "</pre>\n"
      ],
      "text/plain": [
       "\u001b[1;35m🚀 Building new snapshot\u001b[0m with digest \u001b[37mdb9306addd0343592e29e7e4ef7c4554334d7cb6572c512d9b2283f69d86b14d\u001b[0m.\n"
      ]
     },
     "metadata": {},
     "output_type": "display_data"
    },
    {
     "data": {
      "text/html": [
       "<pre style=\"white-space:pre;overflow-x:auto;line-height:normal;font-family:Menlo,'DejaVu Sans Mono',consolas,'Courier New',monospace\"><span style=\"color: #000080; text-decoration-color: #000080; font-weight: bold\">🔧 Running command (foreground):</span> <span style=\"color: #808000; text-decoration-color: #808000\">curl -LsSf </span><span style=\"color: #808000; text-decoration-color: #808000; text-decoration: underline\">https://astral.sh/uv/install.sh</span><span style=\"color: #808000; text-decoration-color: #808000\"> | bash</span>\n",
       "</pre>\n"
      ],
      "text/plain": [
       "\u001b[1;34m🔧 Running command \u001b[0m\u001b[1;34m(\u001b[0m\u001b[1;34mforeground\u001b[0m\u001b[1;34m)\u001b[0m\u001b[1;34m:\u001b[0m \u001b[33mcurl -LsSf \u001b[0m\u001b[4;33mhttps://astral.sh/uv/install.sh\u001b[0m\u001b[33m | bash\u001b[0m\n"
      ]
     },
     "metadata": {},
     "output_type": "display_data"
    },
    {
     "data": {
      "application/vnd.jupyter.widget-view+json": {
       "model_id": "14d2f48ecc2c4073b54de8c88f741755",
       "version_major": 2,
       "version_minor": 0
      },
      "text/plain": [
       "Output()"
      ]
     },
     "metadata": {},
     "output_type": "display_data"
    },
    {
     "data": {
      "text/html": [
       "<pre style=\"white-space:pre;overflow-x:auto;line-height:normal;font-family:Menlo,'DejaVu Sans Mono',consolas,'Courier New',monospace\"></pre>\n"
      ],
      "text/plain": []
     },
     "metadata": {},
     "output_type": "display_data"
    },
    {
     "data": {
      "text/html": [
       "<pre style=\"white-space:pre;overflow-x:auto;line-height:normal;font-family:Menlo,'DejaVu Sans Mono',consolas,'Courier New',monospace\"><span style=\"color: #000080; text-decoration-color: #000080; font-weight: bold\">🎉 New snapshot created</span> with digest <span style=\"color: #c0c0c0; text-decoration-color: #c0c0c0\">db9306addd0343592e29e7e4ef7c4554334d7cb6572c512d9b2283f69d86b14d</span>.\n",
       "\n",
       "</pre>\n"
      ],
      "text/plain": [
       "\u001b[1;34m🎉 New snapshot created\u001b[0m with digest \u001b[37mdb9306addd0343592e29e7e4ef7c4554334d7cb6572c512d9b2283f69d86b14d\u001b[0m.\n",
       "\n"
      ]
     },
     "metadata": {},
     "output_type": "display_data"
    }
   ],
   "source": [
    "snapshot = (\n",
    "    snapshot.setup(\"apt update -y\")\n",
    "    .setup(\"apt-get install -y python3-pip\")\n",
    "    .setup(\"curl -LsSf https://astral.sh/uv/install.sh | bash\")\n",
    ")"
   ]
  },
  {
   "cell_type": "markdown",
   "id": "7b798dde-3a9a-4ef3-9cde-374e5478abcb",
   "metadata": {},
   "source": [
    "# TMP: until we find out how to upload files to a snapshot with the setup api we will manually do it to an instance"
   ]
  },
  {
   "cell_type": "code",
   "execution_count": 116,
   "id": "08084069-0562-41ba-8033-3a81b61c0b1e",
   "metadata": {},
   "outputs": [],
   "source": [
    "base_instance = client.instances.start(snapshot_id=snapshot.id)"
   ]
  },
  {
   "cell_type": "code",
   "execution_count": 76,
   "id": "66a57b88-9d56-4b5a-998d-e5104d34b98d",
   "metadata": {},
   "outputs": [],
   "source": [
    "result = base_instance.exec(command=\"mkdir app\")\n",
    "# upload project to base instance\n",
    "with base_instance.ssh() as ssh:\n",
    "    sftp = ssh._client.open_sftp()\n",
    "\n",
    "    sftp.put(\"/home/asusevski/morph/chess/config.yaml\", \"app/config.yaml\")\n",
    "    sftp.put(\"/home/asusevski/morph/chess/pyproject.toml\", \"app/pyproject.toml\")\n",
    "    sftp.put(\"/home/asusevski/morph/chess/requirements.txt\", \"app/requirements.txt\")\n",
    "    sftp.put(\"/home/asusevski/morph/chess/schemas.py\", \"app/schemas.py\")\n",
    "    sftp.put(\"/home/asusevski/morph/chess/chess_game.py\", \"app/chess_game.py\")\n",
    "    sftp.put(\"/home/asusevski/morph/chess/chess_engine.py\", \"app/chess_engine.py\")\n",
    "    sftp.put(\"/home/asusevski/morph/chess/agent.py\", \"app/agent.py\")"
   ]
  },
  {
   "cell_type": "markdown",
   "id": "0ea51d6a-bac6-438f-8e65-e5b311706aaa",
   "metadata": {},
   "source": [
    "# Remaining to setup: uv add pyproject.toml\n",
    "- NOTE: can just keep the tmp instance i guess"
   ]
  },
  {
   "cell_type": "code",
   "execution_count": 77,
   "id": "c75d2f61-bbe2-4f49-9db3-00003d39959d",
   "metadata": {},
   "outputs": [
    {
     "name": "stdout",
     "output_type": "stream",
     "text": [
      "Snapshot created: snapshot_sxocpfn8. This is the base snapshot for all chess branches.\n"
     ]
    }
   ],
   "source": [
    "# branch from instance with files transferred + uv + deps installed\n",
    "base_snapshot, clones = base_instance.branch(count=3)\n",
    "print(f\"Snapshot created: {base_snapshot.id}. This is the base snapshot for all chess branches.\")"
   ]
  },
  {
   "cell_type": "code",
   "execution_count": 91,
   "id": "38c84a8c-0c46-4f06-816d-31d7884ba3e8",
   "metadata": {},
   "outputs": [
    {
     "data": {
      "text/plain": [
       "['morphvm_0lupadv4', 'morphvm_pwkuoroc', 'morphvm_fa6uh8o9']"
      ]
     },
     "execution_count": 91,
     "metadata": {},
     "output_type": "execute_result"
    }
   ],
   "source": [
    "[clone.id for clone in clones]"
   ]
  },
  {
   "cell_type": "code",
   "execution_count": 78,
   "id": "e83d311f-8030-4d8b-92a4-84ad1fa8cae9",
   "metadata": {},
   "outputs": [],
   "source": [
    "NUM_MOVES = 5\n",
    "game_ids = [1,2,3]\n",
    "strategies = [\"aggressive\", \"defensive\", \"balanced\"]\n",
    "#instance_startup = f\"export OPENAI_API_KEY={os.environ.get('OPENAI_API_KEY')} && cd app && mkdir chess_autosaves && uv add pyproject.toml && source .venv/bin/activate && python agent.py\"\n",
    "run_agent_cmd = f\"export OPENAI_API_KEY={os.environ.get('OPENAI_API_KEY')} && cd app && mkdir chess_autosaves && uv add pyproject.toml && uv run agent.py --game-id {game_id} --moves {NUM_MOVES}\""
   ]
  },
  {
   "cell_type": "code",
   "execution_count": 98,
   "id": "197fc800-74b4-4be2-bb6d-f18f8c6a1a57",
   "metadata": {
    "scrolled": true
   },
   "outputs": [
    {
     "name": "stdout",
     "output_type": "stream",
     "text": [
      "Starting game 1 on instance morphvm_0lupadv4 with strategy aggressive\n",
      "==================================================\n",
      "Stdout:\n",
      "Using custom game ID: 1\n",
      "Starting a new chess game...\n",
      "Starting chess process with command: /root/app/.venv/bin/python3 ./chess_game.py --autosave --game-id 1 --strategy balanced\n",
      "Chess process started, waiting for initial output...\n",
      "Read line: New game started with ID: 1\n",
      "Read line: \n",
      "Read line: Welcome to Chess!\n",
      "Read line: You play as White, computer plays as Black\n",
      "Read line: Agent is using the 'balanced' strategy\n",
      "Read line: \n",
      "Read line: Commands:\n",
      "Read line: - Enter moves in UCI format (e.g., 'e2e4')\n",
      "Found prompt for move input!\n",
      "Initial chess output received, parsing board state...\n",
      "```json\n",
      "{\n",
      "  \"selected_move\": \"e2e4\",\n",
      "  \"alternative_moves\": [\"d2d4\", \"g1f3\"]\n",
      "}\n",
      "```\n",
      "Successfully parsed structured move: e2e4\n",
      "LLM's move (balanced strategy): e2e4\n",
      "Move 1 completed\n",
      "```json\n",
      "{\n",
      "  \"selected_move\": \"g1f3\",\n",
      "  \"alternative_moves\": [\"d2d4\", \"f1c4\"]\n",
      "}\n",
      "```\n",
      "Successfully parsed structured move: g1f3\n",
      "Failed to get a valid move from LLM response. Using random move.\n",
      "LLM's move (balanced strategy): c7c6\n",
      "Failed to make move: Valid moves:\n",
      "  P at a2 → a3, a4\n",
      "  N at b1 → a3, c3\n",
      "  P at b2 → b3, b4\n",
      "  P at c2 → c3, c4\n",
      "  Q at d1 → e2, f3, g4, h5\n",
      "  P at d2 → d3, d4\n",
      "  K at e1 → e2\n",
      "  P at e4 → e5\n",
      "  B at f1 → a6, b5, c4, d3, e2\n",
      "  P at f2 → f3, f4\n",
      "  N at g1 → e2, f3, h3\n",
      "  P at g2 → g3, g4\n",
      "  P at h2 → h3, h4\n",
      "Total legal moves: 30\n",
      "\n",
      " 8 r n b q k b n r 8\n",
      " 7 p p p p p . p p 7\n",
      " 6 . . . . . p . . 6\n",
      " 5 . . . . . . . . 5\n",
      " 4 . . . . P . . . 4\n",
      " 3 . . . . . . . . 3\n",
      " 2 P P P P . P P P 2\n",
      " 1 R N B Q K B N R 1\n",
      "    a b c d e f g h\n",
      "\n",
      "Current turn: White\n",
      "Evaluation: +0.75 (White advantage)\n",
      "\n",
      "Your move (or 'save'/'quit'/'help'): Error: Illegal move: c7c6\n",
      "\n",
      "```json\n",
      "{\n",
      "  \"selected_move\": \"g1f3\",\n",
      "  \"alternative_moves\": [\"d2d4\", \"b1c3\"]\n",
      "}\n",
      "```\n",
      "Successfully parsed structured move: g1f3\n",
      "LLM's move (balanced strategy): g1f3\n",
      "Move 2 completed\n",
      "Game finished!\n",
      "Game ended after 2 moves\n",
      "\n",
      "--------------------------------------------------\n",
      "Stderr:\n",
      "Resolved 60 packages in 6ms\n",
      "Audited 56 packages in 0.34ms\n",
      "\n",
      "--------------------------------------------------\n",
      "Stdout:\n",
      "{\n",
      "  \"game_id\": \"1\",\n",
      "  \"fen\": \"rnbq1bnr/pppppkpp/5p2/8/4P3/5N2/PPPP1PPP/RNBQKB1R w KQ - 2 3\",\n",
      "  \"move_history\": [\n",
      "    \"e2e4\",\n",
      "    \"f7f6\",\n",
      "    \"g1f3\",\n",
      "    \"e8f7\"\n",
      "  ],\n",
      "  \"move_timestamps\": {\n",
      "    \"1\": \"2025-05-05T16:14:49.963252\",\n",
      "    \"2\": \"2025-05-05T16:14:49.964950\",\n",
      "    \"3\": \"2025-05-05T16:14:53.879400\",\n",
      "    \"4\": \"2025-05-05T16:14:53.880253\"\n",
      "  },\n",
      "  \"strategy_name\": \"balanced\",\n",
      "  \"last_updated\": \"2025-05-05T16:14:53.880307\"\n",
      "}\n",
      "--------------------------------------------------\n",
      "Stderr:\n",
      "\n",
      "==================================================\n",
      "Starting game 2 on instance morphvm_pwkuoroc with strategy defensive\n",
      "==================================================\n",
      "Stdout:\n",
      "Using custom game ID: 2\n",
      "Starting a new chess game...\n",
      "Starting chess process with command: /root/app/.venv/bin/python3 ./chess_game.py --autosave --game-id 2 --strategy balanced\n",
      "Chess process started, waiting for initial output...\n",
      "Read line: New game started with ID: 2\n",
      "Read line: \n",
      "Read line: Welcome to Chess!\n",
      "Read line: You play as White, computer plays as Black\n",
      "Read line: Agent is using the 'balanced' strategy\n",
      "Read line: \n",
      "Read line: Commands:\n",
      "Read line: - Enter moves in UCI format (e.g., 'e2e4')\n",
      "Found prompt for move input!\n",
      "Initial chess output received, parsing board state...\n",
      "```json\n",
      "{\n",
      "  \"selected_move\": \"e2e4\",\n",
      "  \"alternative_moves\": [\"d2d4\", \"g1f3\"]\n",
      "}\n",
      "```\n",
      "Successfully parsed structured move: e2e4\n",
      "LLM's move (balanced strategy): e2e4\n",
      "Move 1 completed\n",
      "```json\n",
      "{\n",
      "  \"selected_move\": \"d2d4\",\n",
      "  \"alternative_moves\": [\"g1f3\", \"c2c4\"]\n",
      "}\n",
      "```\n",
      "Successfully parsed structured move: d2d4\n",
      "Failed to get a valid move from LLM response. Using random move.\n",
      "LLM's move (balanced strategy): d7d5\n",
      "Failed to make move: Valid moves:\n",
      "  P at a2 → a3, a4\n",
      "  N at b1 → a3, c3\n",
      "  P at b2 → b3, b4\n",
      "  P at c2 → c3, c4\n",
      "  Q at d1 → e2, f3, g4, h5\n",
      "  P at d2 → d3, d4\n",
      "  K at e1 → e2\n",
      "  P at e4 → e5\n",
      "  B at f1 → a6, b5, c4, d3, e2\n",
      "  P at f2 → f3, f4\n",
      "  N at g1 → e2, f3, h3\n",
      "  P at g2 → g3, g4\n",
      "  P at h2 → h3, h4\n",
      "Total legal moves: 30\n",
      "\n",
      " 8 r . b q k b n r 8\n",
      " 7 p p p p p p p p 7\n",
      " 6 n . . . . . . . 6\n",
      " 5 . . . . . . . . 5\n",
      " 4 . . . . P . . . 4\n",
      " 3 . . . . . . . . 3\n",
      " 2 P P P P . P P P 2\n",
      " 1 R N B Q K B N R 1\n",
      "    a b c d e f g h\n",
      "\n",
      "Current turn: White\n",
      "Evaluation: +0.8 (White advantage)\n",
      "\n",
      "Your move (or 'save'/'quit'/'help'): Error: Illegal move: d7d5\n",
      "\n",
      "```json\n",
      "{\n",
      "  \"selected_move\": \"g1f3\",\n",
      "  \"alternative_moves\": [\"b1c3\", \"d2d4\"]\n",
      "}\n",
      "```\n",
      "Successfully parsed structured move: g1f3\n",
      "LLM's move (balanced strategy): g1f3\n",
      "Move 2 completed\n",
      "Game finished!\n",
      "Game ended after 2 moves\n",
      "\n",
      "--------------------------------------------------\n",
      "Stderr:\n",
      "Resolved 60 packages in 6ms\n",
      "Audited 56 packages in 0.35ms\n",
      "\n",
      "--------------------------------------------------\n",
      "Stdout:\n",
      "{\n",
      "  \"game_id\": \"2\",\n",
      "  \"fen\": \"r1bqkbnr/pp1ppppp/n7/2p5/4P3/5N2/PPPP1PPP/RNBQKB1R w KQkq - 0 3\",\n",
      "  \"move_history\": [\n",
      "    \"e2e4\",\n",
      "    \"b8a6\",\n",
      "    \"g1f3\",\n",
      "    \"c7c5\"\n",
      "  ],\n",
      "  \"move_timestamps\": {\n",
      "    \"1\": \"2025-05-05T16:14:59.354114\",\n",
      "    \"2\": \"2025-05-05T16:14:59.355803\",\n",
      "    \"3\": \"2025-05-05T16:15:02.836257\",\n",
      "    \"4\": \"2025-05-05T16:15:02.837023\"\n",
      "  },\n",
      "  \"strategy_name\": \"balanced\",\n",
      "  \"last_updated\": \"2025-05-05T16:15:02.837084\"\n",
      "}\n",
      "--------------------------------------------------\n",
      "Stderr:\n",
      "\n",
      "==================================================\n",
      "Starting game 3 on instance morphvm_fa6uh8o9 with strategy balanced\n",
      "==================================================\n",
      "Stdout:\n",
      "Using custom game ID: 3\n",
      "Starting a new chess game...\n",
      "Starting chess process with command: /root/app/.venv/bin/python3 ./chess_game.py --autosave --game-id 3 --strategy balanced\n",
      "Chess process started, waiting for initial output...\n",
      "Read line: New game started with ID: 3\n",
      "Read line: \n",
      "Read line: Welcome to Chess!\n",
      "Read line: You play as White, computer plays as Black\n",
      "Read line: Agent is using the 'balanced' strategy\n",
      "Read line: \n",
      "Read line: Commands:\n",
      "Read line: - Enter moves in UCI format (e.g., 'e2e4')\n",
      "Found prompt for move input!\n",
      "Initial chess output received, parsing board state...\n",
      "```json\n",
      "{\n",
      "  \"selected_move\": \"e2e4\",\n",
      "  \"alternative_moves\": [\"d2d4\", \"g1f3\"]\n",
      "}\n",
      "```\n",
      "Successfully parsed structured move: e2e4\n",
      "LLM's move (balanced strategy): e2e4\n",
      "Move 1 completed\n",
      "```json\n",
      "{\n",
      "  \"selected_move\": \"g1f3\",\n",
      "  \"alternative_moves\": [\"d2d4\", \"f1c4\"]\n",
      "}\n",
      "```\n",
      "Successfully parsed structured move: g1f3\n",
      "Failed to get a valid move from LLM response. Using random move.\n",
      "LLM's move (balanced strategy): b8c6\n",
      "Failed to make move: Valid moves:\n",
      "  P at a2 → a3, a4\n",
      "  N at b1 → a3, c3\n",
      "  P at b2 → b3, b4\n",
      "  P at c2 → c3, c4\n",
      "  Q at d1 → e2, f3, g4, h5\n",
      "  P at d2 → d3, d4\n",
      "  K at e1 → e2\n",
      "  B at f1 → a6, b5, c4, d3, e2\n",
      "  P at f2 → f3, f4\n",
      "  N at g1 → e2, f3, h3\n",
      "  P at g2 → g3, g4\n",
      "  P at h2 → h3, h4\n",
      "Total legal moves: 29\n",
      "\n",
      " 8 r n b q k b n r 8\n",
      " 7 p p p p . p p p 7\n",
      " 6 . . . . . . . . 6\n",
      " 5 . . . . p . . . 5\n",
      " 4 . . . . P . . . 4\n",
      " 3 . . . . . . . . 3\n",
      " 2 P P P P . P P P 2\n",
      " 1 R N B Q K B N R 1\n",
      "    a b c d e f g h\n",
      "\n",
      "Current turn: White\n",
      "Evaluation: 0.00 (Equal position)\n",
      "\n",
      "Your move (or 'save'/'quit'/'help'): Error: Illegal move: b8c6\n",
      "\n",
      "```json\n",
      "{\n",
      "  \"selected_move\": \"g1f3\",\n",
      "  \"alternative_moves\": [\"b1c3\", \"d2d4\"]\n",
      "}\n",
      "```\n",
      "Successfully parsed structured move: g1f3\n",
      "LLM's move (balanced strategy): g1f3\n",
      "Move 2 completed\n",
      "Game finished!\n",
      "Game ended after 2 moves\n",
      "\n",
      "--------------------------------------------------\n",
      "Stderr:\n",
      "Resolved 60 packages in 6ms\n",
      "Audited 56 packages in 0.36ms\n",
      "\n",
      "--------------------------------------------------\n",
      "Stdout:\n",
      "{\n",
      "  \"game_id\": \"3\",\n",
      "  \"fen\": \"rnbqkb1r/ppppnppp/8/4p3/4P3/5N2/PPPP1PPP/RNBQKB1R w KQkq - 2 3\",\n",
      "  \"move_history\": [\n",
      "    \"e2e4\",\n",
      "    \"e7e5\",\n",
      "    \"g1f3\",\n",
      "    \"g8e7\"\n",
      "  ],\n",
      "  \"move_timestamps\": {\n",
      "    \"1\": \"2025-05-05T16:15:07.444841\",\n",
      "    \"2\": \"2025-05-05T16:15:07.447376\",\n",
      "    \"3\": \"2025-05-05T16:15:10.781269\",\n",
      "    \"4\": \"2025-05-05T16:15:10.782068\"\n",
      "  },\n",
      "  \"strategy_name\": \"balanced\",\n",
      "  \"last_updated\": \"2025-05-05T16:15:10.782127\"\n",
      "}\n",
      "--------------------------------------------------\n",
      "Stderr:\n",
      "\n",
      "==================================================\n"
     ]
    }
   ],
   "source": [
    "for clone, game_id, strategy in zip(clones, game_ids, strategies):\n",
    "    print(f\"Starting game {game_id} on instance {clone.id} with strategy {strategy}\")\n",
    "    run_agent_cmd = f\"export OPENAI_API_KEY={os.environ.get('OPENAI_API_KEY')} && cd app && mkdir chess_autosaves && uv add pyproject.toml && uv run agent.py --game-id {game_id} --moves 2\"\n",
    "    \n",
    "    result = clone.exec(command=run_agent_cmd)\n",
    "    print(\"=\"*50)\n",
    "    print(f\"Stdout:\\n{result.stdout}\")\n",
    "    print(\"-\"*50)\n",
    "    print(f\"Stderr:\\n{result.stderr}\")\n",
    "    print('-'*50)\n",
    "    # check that the game state saved\n",
    "    result = clone.exec(command=f\"cat app/chess_autosaves/game_id_{game_id}.json\")\n",
    "    print(f\"Stdout:\\n{result.stdout}\")\n",
    "    print(\"-\"*50)\n",
    "    print(f\"Stderr:\\n{result.stderr}\")\n",
    "    print(\"=\"*50)"
   ]
  },
  {
   "cell_type": "code",
   "execution_count": 108,
   "id": "9fe56260-54dd-46a6-837d-9ed23e7934db",
   "metadata": {
    "scrolled": true
   },
   "outputs": [
    {
     "name": "stdout",
     "output_type": "stream",
     "text": [
      "{\n",
      "  \"game_id\": \"2\",\n",
      "  \"fen\": \"r3qb1r/pppkppp1/4bn2/3BP2p/1n1PN3/4BN2/PPPQ1PPP/R3K2R w KQ - 3 11\",\n",
      "  \"move_history\": [\n",
      "    \"e2e4\",\n",
      "    \"d7d5\",\n",
      "    \"g1f3\",\n",
      "    \"b8c6\",\n",
      "    \"b1c3\",\n",
      "    \"h7h5\",\n",
      "    \"d2d4\",\n",
      "    \"c8f5\",\n",
      "    \"f1c4\",\n",
      "    \"c6b4\",\n",
      "    \"c1e3\",\n",
      "    \"e8d7\",\n",
      "    \"d1d2\",\n",
      "    \"d8c8\",\n",
      "    \"e4e5\",\n",
      "    \"c8e8\",\n",
      "    \"c4d5\",\n",
      "    \"f5e6\",\n",
      "    \"c3e4\",\n",
      "    \"g8f6\"\n",
      "  ],\n",
      "  \"move_timestamps\": {\n",
      "    \"1\": \"2025-05-05T17:22:27.700322\",\n",
      "    \"2\": \"2025-05-05T17:22:27.702911\",\n",
      "    \"3\": \"2025-05-05T17:22:32.142952\",\n",
      "    \"4\": \"2025-05-05T17:22:32.143787\",\n",
      "    \"5\": \"2025-05-05T17:22:36.263046\",\n",
      "    \"6\": \"2025-05-05T17:22:36.264687\",\n",
      "    \"7\": \"2025-05-05T17:22:39.016279\",\n",
      "    \"8\": \"2025-05-05T17:22:39.017144\",\n",
      "    \"9\": \"2025-05-05T17:22:41.848616\",\n",
      "    \"10\": \"2025-05-05T17:22:41.849968\",\n",
      "    \"11\": \"2025-05-05T17:22:45.772518\",\n",
      "    \"12\": \"2025-05-05T17:22:45.773354\",\n",
      "    \"13\": \"2025-05-05T17:22:50.530099\",\n",
      "    \"14\": \"2025-05-05T17:22:50.531022\",\n",
      "    \"15\": \"2025-05-05T17:22:54.177509\",\n",
      "    \"16\": \"2025-05-05T17:22:54.178481\",\n",
      "    \"17\": \"2025-05-05T17:23:00.311437\",\n",
      "    \"18\": \"2025-05-05T17:23:00.312355\",\n",
      "    \"19\": \"2025-05-05T17:23:03.717696\",\n",
      "    \"20\": \"2025-05-05T17:23:03.718523\"\n",
      "  },\n",
      "  \"strategy_name\": \"balanced\",\n",
      "  \"last_updated\": \"2025-05-05T17:23:03.718581\"\n",
      "}\n"
     ]
    }
   ],
   "source": [
    "print(clones[1].exec(f\"cat app/chess_autosaves/game_id_2.json\").stdout)"
   ]
  },
  {
   "cell_type": "code",
   "execution_count": null,
   "id": "4356bf0f-7e78-4475-8f5b-f252deb4c4bd",
   "metadata": {},
   "outputs": [],
   "source": [
    "print(clones[0].exec(f\"ls app/chess_autosaves\").stdout)\n"
   ]
  },
  {
   "cell_type": "code",
   "execution_count": 84,
   "id": "a8989d28-55e8-40d8-b6cf-5732312f0227",
   "metadata": {},
   "outputs": [
    {
     "data": {
      "text/plain": [
       "['morphvm_0lupadv4', 'morphvm_pwkuoroc', 'morphvm_fa6uh8o9']"
      ]
     },
     "execution_count": 84,
     "metadata": {},
     "output_type": "execute_result"
    }
   ],
   "source": [
    "[x.id for x in clones]"
   ]
  },
  {
   "cell_type": "markdown",
   "id": "36588d6f-f324-4b1a-8646-2fff42baa19b",
   "metadata": {},
   "source": [
    "# utils"
   ]
  },
  {
   "cell_type": "code",
   "execution_count": 111,
   "id": "33257cd5-8315-49aa-be9e-29608d736010",
   "metadata": {},
   "outputs": [
    {
     "name": "stdout",
     "output_type": "stream",
     "text": [
      "Stopping instance ID: morphvm_fa6uh8o9, Current Status: ready, Snapshot ID: snapshot_sxocpfn8\n",
      "Stopping instance ID: morphvm_0lupadv4, Current Status: ready, Snapshot ID: snapshot_sxocpfn8\n",
      "Stopping instance ID: morphvm_pwkuoroc, Current Status: ready, Snapshot ID: snapshot_sxocpfn8\n",
      "Stopping instance ID: morphvm_lxjfhhlo, Current Status: ready, Snapshot ID: snapshot_sxocpfn8\n"
     ]
    }
   ],
   "source": [
    "# delete all instances\n",
    "instances = client.instances.list()\n",
    "\n",
    "for instance in instances:\n",
    "    print(f\"Stopping instance ID: {instance.id}, Current Status: {instance.status}, Snapshot ID: {instance.refs.snapshot_id}\")\n",
    "    instance.stop()"
   ]
  },
  {
   "cell_type": "code",
   "execution_count": 112,
   "id": "73b6f3f7-b7ef-44ab-8dc3-588a6af5ef71",
   "metadata": {},
   "outputs": [
    {
     "name": "stdout",
     "output_type": "stream",
     "text": [
      "Deleting snapshot ID: snapshot_sxocpfn8, Created At: 1746459331\n",
      "Deleting snapshot ID: snapshot_j1nr3f6a, Created At: 1746459301\n",
      "Deleting snapshot ID: snapshot_vh39mq3b, Created At: 1746459282\n",
      "Deleting snapshot ID: snapshot_8sut7e5t, Created At: 1746459229\n",
      "Deleting snapshot ID: snapshot_26bp6o23, Created At: 1746459191\n"
     ]
    }
   ],
   "source": [
    "# delete all snapshots\n",
    "snapshots = client.snapshots.list()\n",
    "\n",
    "for snapshot in snapshots:\n",
    "    print(f\"Deleting snapshot ID: {snapshot.id}, Created At: {snapshot.created}\")\n",
    "    snapshot.delete()"
   ]
  },
  {
   "cell_type": "code",
   "execution_count": 109,
   "id": "c8d6a7bb-ed01-497e-8e80-ab52f16b0437",
   "metadata": {},
   "outputs": [],
   "source": [
    "# reset autosaves\n",
    "for clone in clones:\n",
    "    _ = clone.exec(command=\"rm -rf app/chess_autosaves\")"
   ]
  },
  {
   "cell_type": "code",
   "execution_count": 110,
   "id": "4dd6838a-a87a-411e-9d71-29da3556ce33",
   "metadata": {},
   "outputs": [],
   "source": [
    "# update agent.py\n",
    "for clone in clones:\n",
    "    with clone.ssh() as ssh:\n",
    "        sftp = ssh._client.open_sftp()\n",
    "        sftp.put(\"/home/asusevski/morph/chess/agent.py\", \"app/agent.py\")"
   ]
  },
  {
   "cell_type": "code",
   "execution_count": null,
   "id": "fe097da3-23e2-4c8d-9463-b6f9e9cb54e7",
   "metadata": {},
   "outputs": [],
   "source": []
  }
 ],
 "metadata": {
  "kernelspec": {
   "display_name": "Python 3 (ipykernel)",
   "language": "python",
   "name": "python3"
  },
  "language_info": {
   "codemirror_mode": {
    "name": "ipython",
    "version": 3
   },
   "file_extension": ".py",
   "mimetype": "text/x-python",
   "name": "python",
   "nbconvert_exporter": "python",
   "pygments_lexer": "ipython3",
   "version": "3.10.12"
  }
 },
 "nbformat": 4,
 "nbformat_minor": 5
}
